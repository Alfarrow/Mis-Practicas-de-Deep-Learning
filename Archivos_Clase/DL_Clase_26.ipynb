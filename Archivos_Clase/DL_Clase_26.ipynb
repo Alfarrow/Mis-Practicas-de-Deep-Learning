{
  "nbformat": 4,
  "nbformat_minor": 0,
  "metadata": {
    "colab": {
      "provenance": []
    },
    "kernelspec": {
      "name": "python3",
      "display_name": "Python 3"
    },
    "language_info": {
      "name": "python"
    }
  },
  "cells": [
    {
      "cell_type": "markdown",
      "metadata": {
        "id": "ImhCCNRh4HMM"
      },
      "source": [
        "# Continuemos con GAN's..."
      ]
    },
    {
      "cell_type": "markdown",
      "metadata": {
        "id": "3iPBIIw15MA9"
      },
      "source": [
        "Ccomo sabemos la ecuación sobre la que se basan las GAN's es:"
      ]
    },
    {
      "cell_type": "markdown",
      "metadata": {
        "id": "zITQt3gw4MbB"
      },
      "source": [
        "$\\min_{G}\\max_{D}\\mathcal{L}_{GAN}\\left(G, D\\right) = \\mathbb{E}_{x\\sim p_{data}(x)}[\\log D(x)] +  \\mathbb{E}_{z\\sim p_z{(z)}}[\\log (1 - D(G(z)))] $"
      ]
    },
    {
      "cell_type": "markdown",
      "metadata": {
        "id": "_5PQ0PCf6Sj5"
      },
      "source": [
        "Para entender la ecuación debemos antes entender tres cosas:"
      ]
    },
    {
      "cell_type": "markdown",
      "metadata": {
        "id": "4d6N6aaY6ZCi"
      },
      "source": [
        "- Valor Esperado\n",
        "- El equilibrio de Nash\n",
        "- El juego de minimax\n"
      ]
    },
    {
      "cell_type": "markdown",
      "metadata": {
        "id": "ucG59jhfLaxU"
      },
      "source": [
        "# Valor esperado"
      ]
    },
    {
      "cell_type": "markdown",
      "metadata": {
        "id": "C2pkk0v7MAG9"
      },
      "source": [
        "- Una variable aleatoria es una función que a cada suceso\n",
        "elemental de un espacio muestral le asigna un número."
      ]
    },
    {
      "cell_type": "markdown",
      "metadata": {
        "id": "UyO_Zre2MPhf"
      },
      "source": [
        "Al tirar un dado, ¿Cuál es el espacio muestral?"
      ]
    },
    {
      "cell_type": "markdown",
      "metadata": {
        "id": "TJbiUTnWMXLW"
      },
      "source": [
        "![image.png](data:image/png;base64,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)"
      ]
    },
    {
      "cell_type": "markdown",
      "metadata": {
        "id": "CwGTo3VTOLvN"
      },
      "source": [
        "Dada una variable aleatoria discreta X, se define su función\n",
        "función de probabilidad como la función que a cada valor x\n",
        "le asigna su probabilidad de ocurrencia: \n",
        "\n",
        "$f(x) = P (X = x)$"
      ]
    },
    {
      "cell_type": "markdown",
      "metadata": {
        "id": "gcAguZVBMPqO"
      },
      "source": [
        "¿Y la probabilidad de cada evento?"
      ]
    },
    {
      "cell_type": "markdown",
      "metadata": {
        "id": "ShFKr8-cMPuu"
      },
      "source": [
        "$P(X=1) = \\frac{1}{6}$, $P(X=2) = \\frac{1}{6}$, $P(X=3) = \\frac{1}{6}$, $P(X=4) = \\frac{1}{6}$, $P(X=5) = \\frac{1}{6}$, $P(X=6) = \\frac{1}{6}$"
      ]
    },
    {
      "cell_type": "markdown",
      "metadata": {
        "id": "K79RXqFsMPyO"
      },
      "source": [
        "Para una variable discreta el Valor esperado es $\\mathbb{E}$\n",
        "\n"
      ]
    },
    {
      "cell_type": "markdown",
      "metadata": {
        "id": "ZtHOuLzzPGBc"
      },
      "source": [
        "$\\mathbb{E}[X] = \\sum_{i=1}^n x_iP[X=x_i]$"
      ]
    },
    {
      "cell_type": "markdown",
      "metadata": {
        "id": "w31wj6gIPQ80"
      },
      "source": [
        "¿Cuál es el valor esperado para los dados?"
      ]
    },
    {
      "cell_type": "markdown",
      "metadata": {
        "id": "MnI4yXXQPFMe"
      },
      "source": [
        "Podemos hacer el cálculo\n",
        "\n",
        "{\\begin{aligned}\\mathbb{E} (X)=1\\cdot {\\frac {1}{6}}+2\\cdot {\\frac {1}{6}}+3\\cdot {\\frac {1}{6}}+4\\cdot {\\frac {1}{6}}+5\\cdot {\\frac {1}{6}}+6\\cdot {\\frac {1}{6}}\\\\[6pt]={\\frac {1+2+3+4+5+6}{6}}=3.5\\end{aligned}"
      ]
    },
    {
      "cell_type": "markdown",
      "source": [
        "Podemos hacer el cálculo\n",
        "\n",
        "{\\begin{aligned}\\mathbb{E} (X)=2\\cdot {\\frac {1}{2}}+4\\cdot {\\frac {1}{4}}+8\\cdot {\\frac {1}{8}} - +20\\cdot {\\frac {1}{8}}=$\n",
        "0.5\\end{aligned}"
      ],
      "metadata": {
        "id": "eRV0lYD8bWMa"
      }
    },
    {
      "cell_type": "markdown",
      "metadata": {
        "id": "gcdFWrPbTcx5"
      },
      "source": [
        "Resolver#\n",
        "\n",
        "Se lanzan tres monedas.\n",
        "\n",
        "- Si cae cara la primera vez el jugador gana 2 pesos.\n",
        "- Si cae cara la segunda vez gana 4 pesos.\n",
        "- Si cae cara la tercera vez agan 8 pesos.\n",
        "\n",
        "Si no cae cara en los tres lanzamientos pierde 20 pesos.\n",
        "\n"
      ]
    },
    {
      "cell_type": "markdown",
      "metadata": {
        "id": "hDiEAXNWUB_-"
      },
      "source": [
        "¿Cuál es el valor esperado?"
      ]
    },
    {
      "cell_type": "markdown",
      "metadata": {
        "id": "5LyNckfpBrPf"
      },
      "source": [
        "# Juegos de suma cero"
      ]
    },
    {
      "cell_type": "markdown",
      "metadata": {
        "id": "unlFJ0rtBwjX"
      },
      "source": [
        "Llamamos juegos de suma cero a aquellos en los que las ganancias de un jugador se equilibran con las pérdidas de otro. En otras palabras, son aquellos juegos en los que si hacemos una resta entre las ganancias totales de los participantes y las pérdidas totales, el resultado siempre va a ser cero."
      ]
    },
    {
      "cell_type": "markdown",
      "metadata": {
        "id": "SQEcOLcRAoNe"
      },
      "source": [
        "# El equilibrio de Nash"
      ]
    },
    {
      "cell_type": "markdown",
      "metadata": {
        "id": "OJBeT7L368Qb"
      },
      "source": [
        "### El dilema del prisionero\n",
        "\n"
      ]
    },
    {
      "cell_type": "markdown",
      "metadata": {
        "id": "7jnH6qnk8MJi"
      },
      "source": [
        "Fue desarrollado originariamente por Merrill M. Flood y Melvin Dresher mientras trabajaban en RAND en 1950."
      ]
    },
    {
      "cell_type": "markdown",
      "metadata": {
        "id": "rf_Z7I1B7koH"
      },
      "source": [
        "Dos sospechosos de un gran crimen están recluidos en celdas separadas. Hay suficientes pruebas para condenar a cada uno de ellos por un delito menor, pero no hay pruebas suficientes para condenar a cualquiera de ellos por el delito mayor, a menos que uno de ellos actúe como delator contra el otro (traición). Si ambos permanecen callados, cada uno será condenado por el delito menor y pasará un año en prisión. Si uno y sólo uno de ellos deserta, será liberado y utilizado como testigo contra la otra, que pasará cuatro años en prisión. Si ambos desertan, cada una pasará tres años en prisión."
      ]
    },
    {
      "cell_type": "markdown",
      "metadata": {
        "id": "XiKvDyw_68T0"
      },
      "source": [
        "Jugadores: Los dos sospechosos.\n",
        "\n",
        "Acciones: El conjunto de acciones de cada jugador es {Silencio, Traición}.\n",
        "\n",
        "\n"
      ]
    },
    {
      "cell_type": "markdown",
      "metadata": {
        "id": "unqTVMa9QUAV"
      },
      "source": [
        "¿En que orden se plantaerían las estrategias dónde 3 es mejor, 0 peor escenario?"
      ]
    },
    {
      "cell_type": "markdown",
      "metadata": {
        "id": "9FxQDBNyQS2Q"
      },
      "source": [
        "Preferencias: \n",
        "\n",
        "\n",
        "La ordenación de los perfiles de acción del sospechoso 1, de mejor a peor, es (Traición, Silencio) ,(Silencio, Silencio) (le cae un año de cárcel), (Traición, Traición) (le caen tres\n",
        "años de prisión), (Silencio, Traición) (le caen cuatro años de prisión). \n",
        "\n",
        "\n",
        "El sospechoso 2\n",
        "del sospechoso 2 es (Silencio, Traición), (Silencio, Silencio), (Traición, Traición), (Traición, Silencio)."
      ]
    },
    {
      "cell_type": "markdown",
      "source": [
        "|1 /2| Silencio| Traición|\n",
        "|---|---|---|\n",
        "|Silencio|-1, -1|-4, 0|\n",
        "|Traición|0, -4|-3, -3|\n"
      ],
      "metadata": {
        "id": "9dYvmSe1Sdjm"
      }
    },
    {
      "cell_type": "markdown",
      "metadata": {
        "id": "bxjOgT_K68W7"
      },
      "source": [
        "|1 /2| Silencio| Traición|\n",
        "|---|---|---|\n",
        "|Silencio|1, 1|3, 0|\n",
        "|Traición|0, 3|2, 2|\n"
      ]
    },
    {
      "cell_type": "markdown",
      "metadata": {
        "id": "9hjcEcfH68Z7"
      },
      "source": [
        "¿Cuál es la mejor estrategia?"
      ]
    },
    {
      "cell_type": "markdown",
      "metadata": {
        "id": "zYqkOn4M68dD"
      },
      "source": [
        "Que ambos se traicionen en términos de años es peor que ambos guarden silencio.\n"
      ]
    },
    {
      "cell_type": "markdown",
      "metadata": {
        "id": "CN2HqT6i68gM"
      },
      "source": [
        "Sin embargo, la solución donde ambos se quedan callados es inestable."
      ]
    },
    {
      "cell_type": "markdown",
      "metadata": {
        "id": "S_VRV2SbAE_G"
      },
      "source": [
        "Como cada uno persigue su propio interés y no pueden confiar en lo que el otro dirá, la mejor opción para los dos es adoptar la estrategia de declarar, lo que desemboca en la situación de equilibrio (3,3) en la cual cada uno minimiza su posible pérdida, pero la solución conjunta es peor. A este equilibrio (3,3) se le denomina Equilibrio de Nash."
      ]
    },
    {
      "cell_type": "markdown",
      "metadata": {
        "id": "pdDMf0vYBJ-L"
      },
      "source": [
        "## El principio minimax"
      ]
    },
    {
      "cell_type": "markdown",
      "metadata": {
        "id": "FDXy67WABKCa"
      },
      "source": [
        "Sirve para minimizar la pérdida máxima, se basa en el supuesto que el que el contrincante escogerá lo peor para ti."
      ]
    },
    {
      "cell_type": "markdown",
      "metadata": {
        "id": "nJ-3BnN9BKGK"
      },
      "source": [
        "Chales Baggage ya había trabajado en una idea similar. Jhon Von Neumann fue el primero en llamarlo así."
      ]
    },
    {
      "cell_type": "markdown",
      "metadata": {
        "id": "o3zA1wlrDkfD"
      },
      "source": [
        "### Estrategia maximin"
      ]
    },
    {
      "cell_type": "markdown",
      "metadata": {
        "id": "jfIQxp6xBKJr"
      },
      "source": [
        "El valor maximin es el valor más alto que el jugador puede estar seguro de obtener sin conocer las acciones de los otros jugadores; equivalentemente, es el valor más bajo que los otros jugadores pueden obligar a recibir al jugador cuando conocen la acción de éste. Su definición formal es:[3]\n",
        "\n",
        "${\\underline {v_{i}}}=\\max _{a_{i}}\\min _{a_{-i}}{v_{i}(a_{i},a_{-i})}$\n",
        "\n",
        "\n",
        "Donde:\n",
        "\n",
        "$i$ es el índice del jugador de interés.\n",
        "\n",
        "${\\displaystyle -i}$ denota todos los demás jugadores excepto el jugador $i$.\n",
        "\n",
        "${\\displaystyle a_{i}}$ es la acción realizada por el jugador $i$.\n",
        "\n",
        "${\\displaystyle a_{-i}}$ denota las acciones realizadas por todos los demás jugadores.\n",
        "\n",
        "${\\displaystyle v_{i}}$ es la función de valor del jugador $i$.\n",
        "\n",
        "\n",
        "\n",
        "El cálculo del valor máximo de un jugador se realiza en el peor de los casos: para cada acción posible del jugador, comprobamos todas las acciones posibles de los demás jugadores y determinamos la peor combinación posible de acciones, la que da al jugador $i$ el menor valor. A continuación, determinamos qué acción puede llevar a cabo el jugador $i$ para que este valor más pequeño sea el más alto posible.\n",
        "\n",
        "Por ejemplo, consideremos el siguiente juego para dos jugadores, en el que el primer jugador (\"jugador de la fila\") puede elegir cualquiera de las tres jugadas, etiquetadas como T, M o B, y el segundo jugador (\"jugador de la columna\") puede elegir cualquiera de las dos jugadas, L o R. El resultado de la combinación de ambas jugadas se expresa en una tabla de resultados:\n",
        "\n",
        "||\tL|\tR|\n",
        "|--|--|---|\n",
        "|T|\t3,1\t|2,-20|\n",
        "|M|\t5,0\t|-10,1|\n",
        "|B|\t-100,2|\t4,4|"
      ]
    },
    {
      "cell_type": "markdown",
      "metadata": {
        "id": "01mhThzxFF35"
      },
      "source": [
        "Para el ejemplo, consideramos sólo las estrategias puras. Compruebe cada jugador por turnos:\n",
        "\n",
        "El jugador de la fila puede jugar $T$, lo que le garantiza un pago de al menos 2 (jugar $B$ es arriesgado ya que puede llevar a un pago de -100, y jugar M puede resultar en un pago de -10). Por lo tanto: ${\\displaystyle {\\underline {v_{fila}}}=2}$\n",
        "\n",
        "\n",
        "El jugador de la columna puede jugar $L$ y asegurarse un pago de al menos 0 (jugar R le pone en riesgo de obtener ${\\displaystyle -20}$).\n",
        "\n",
        " Por lo tanto: ${\\displaystyle {\\underline {v_{col}}=0}}$.\n",
        "\n",
        "Si ambos jugadores juegan con sus respectivas estrategias maximin\n",
        "$(T,L)$, el vector de costo es $(3,1)$."
      ]
    },
    {
      "cell_type": "markdown",
      "metadata": {
        "id": "Nz4YYMUnHKTn"
      },
      "source": [
        "Estrategia Minimax"
      ]
    },
    {
      "cell_type": "markdown",
      "metadata": {
        "id": "Wwj0fqlJHIOa"
      },
      "source": [
        "El valor minimax de un jugador es el valor más pequeño que los otros jugadores pueden obligar a recibir al jugador, sin conocer las acciones de éste; equivalentemente, es el mayor valor que el jugador puede estar seguro de obtener cuando conoce las acciones de los otros jugadores. \n",
        "\n",
        "${\\displaystyle {\\overline {v_{i}}=mín _{a_{-i}}máx _{a_{i}}(a_{i},a_{-i})}}$.\n",
        "\n",
        "\n",
        "La definición es muy similar a la del valor maximin, sólo que el orden de los operadores máximo y mínimo es inverso. En el ejemplo anterior:\n",
        "\n",
        "El jugador de la fila puede obtener un valor máximo de 4 (si el otro jugador juega R) o 5 (si el otro jugador juega L), por lo que: $\\overline{v_{fila}}=4$.\n",
        "\n",
        "El jugador de la columna puede obtener un valor máximo de 1 (si el otro jugador juega T), 1 (si M) o 4 (si B). Por lo tanto: $\\overline{v_{col}}=1$."
      ]
    },
    {
      "cell_type": "markdown",
      "metadata": {
        "id": "uKrXNqLVFF61"
      },
      "source": [
        "Intuitivamente, en maximin la maximización viene después de la minimización, por lo que el jugador $i$ intenta maximizar su valor antes de saber lo que harán los demás; en minimax la maximización viene antes de la minimización, por lo que el jugador $i$ está en una posición mucho mejor: maximiza su valor sabiendo lo que hicieron los demás."
      ]
    },
    {
      "cell_type": "markdown",
      "metadata": {
        "id": "g3znSBH5Kfwp"
      },
      "source": [
        "Calcular maximin y minimax para el siguiente ejemplo:"
      ]
    },
    {
      "cell_type": "markdown",
      "metadata": {
        "id": "lB1SwXIsKVVI"
      },
      "source": [
        "||\tL|\tR|\n",
        "|--|--|---|\n",
        "|T|\t2,5\t|2,-2|\n",
        "|M|\t3,-10\t|-10,1|\n",
        "|B|\t-10,20|3,2|"
      ]
    },
    {
      "cell_type": "markdown",
      "metadata": {
        "id": "DvhbhE7UFF99"
      },
      "source": [
        "## En juegos de suma cero"
      ]
    },
    {
      "cell_type": "markdown",
      "metadata": {
        "id": "mlh_s4VyFGA-"
      },
      "source": [
        "En los juegos de suma cero de dos jugadores, la solución minimax es la misma que el equilibrio de Nash.\n",
        "\n",
        "Para todo juego de suma cero de dos personas con un número finito de estrategias, existe un valor V y una estrategia mixta para cada jugador, tal que\n",
        "\n",
        "(a) Dada la estrategia del jugador 2, la mejor recompensa posible para el jugador 1 es V, y\n",
        "\n",
        "(b) Dada la estrategia del jugador 1, el mejor resultado posible para el jugador 2 es -V."
      ]
    },
    {
      "cell_type": "markdown",
      "metadata": {
        "id": "7iaYxcEwFGDu"
      },
      "source": [
        "# Antes de continuar implementemos dos GaN's Condicionales...\n",
        "\n",
        "\n"
      ]
    },
    {
      "cell_type": "markdown",
      "metadata": {
        "id": "93kVw1mSR7IX"
      },
      "source": [
        "https://phillipi.github.io/pix2pix/\n",
        "\n",
        "https://junyanz.github.io/CycleGAN/"
      ]
    },
    {
      "cell_type": "markdown",
      "metadata": {
        "id": "_A-yupUSSAD3"
      },
      "source": [
        "Links:"
      ]
    },
    {
      "cell_type": "markdown",
      "metadata": {
        "id": "TBqDagH3RwRF"
      },
      "source": [
        "https://colab.research.google.com/github/tensorflow/docs/blob/master/site/en/tutorials/generative/pix2pix.ipynb\n",
        "\n",
        "https://colab.research.google.com/github/tensorflow/docs/blob/master/site/en/tutorials/generative/cyclegan.ipynb#scrollTo=Ds4o1h4WHz9U"
      ]
    },
    {
      "cell_type": "markdown",
      "metadata": {
        "id": "qh5y3YVYFGG1"
      },
      "source": []
    },
    {
      "cell_type": "code",
      "metadata": {
        "id": "HX72C00G5DtX"
      },
      "source": [],
      "execution_count": null,
      "outputs": []
    }
  ]
}